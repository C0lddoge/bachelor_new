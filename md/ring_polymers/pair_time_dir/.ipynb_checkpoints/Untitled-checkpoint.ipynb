{
 "cells": [
  {
   "cell_type": "code",
   "execution_count": 1,
   "id": "a69d22a1",
   "metadata": {},
   "outputs": [],
   "source": [
    "import matplotlib.pyplot as plt\n",
    "import numpy as np\n",
    "import codemodule as cm"
   ]
  },
  {
   "cell_type": "code",
   "execution_count": 2,
   "id": "bc18b852",
   "metadata": {},
   "outputs": [
    {
     "name": "stdout",
     "output_type": "stream",
     "text": [
      "6001 frames with 0.2 discard and 1 stride gives back 4801 frames\n"
     ]
    }
   ],
   "source": [
    "r_c = 4.5\n",
    "L = '063.50'\n",
    "frames = cm.read_lammpstrj(f'../coms/MIXTURE_N1-256_N2-256_MPR1-50_MPR2-50_Bend1-00.0_Bend2-30.0_L-{L}-com.lammpstrj',0.2)\n",
    "adj_mat = cm.dyn_graph_ser(frames,r_c)"
   ]
  },
  {
   "cell_type": "code",
   "execution_count": 3,
   "id": "3941a0b9",
   "metadata": {},
   "outputs": [
    {
     "name": "stdout",
     "output_type": "stream",
     "text": [
      "[  1   2   3   4   5   6   7   8   9  10  11  12  13  14  15  16  17  18\n",
      "  19  20  21  22  23  24  25  26  27  28  29  30  31  32  33  34  35  36\n",
      "  37  38  39  40  41  42  43  44  45  46  47  48  49  50  51  52  53  54\n",
      "  55  56  57  58  59  60  61  62  63  64  65  66  67  68  69  70  71  72\n",
      "  73  74  75  76  77  78  79  80  81  82  83  84  85  86  87  88  89  90\n",
      "  91  92  93  94  95  96  97  98  99 100 101 102 103 104 105 106 107 108\n",
      " 109 110 111 112 113 114 115 116 117 118 119 120 121 122 123 124 125 126\n",
      " 127 128 129 130 131 132 133 134 135 136 137 138 139 140 141 142 143 144\n",
      " 145 146 147 148 149 150 151 152 153 154 155 156 157 158 159 160 161 162\n",
      " 163 164 165 166 167 168 169 170 171 172 173 174 175 176 177 178 179 180\n",
      " 181 182 183 184 185 186 187 188 189 190 191 192 193 194 195 196 197 198\n",
      " 199 200 201 202 203 204 205 206 207 208 209 210 211 212 213 214 215 216\n",
      " 217 218 219 220 221 222 223 224 225 226 227 228 229 230 231 232 233 234\n",
      " 235 236 237 238 239 240 241 242 243 244 245 246 247 248 249 250 251 252\n",
      " 253 254 255 256 257 258 259 260 261 262 263 264 265 266 267 268 269 270\n",
      " 271 272 273 274 275 276 277 278 279 280 281 282 283 284 285 286 287 288\n",
      " 289 290 291 292 293 294 295 296 297 298 299 300 301]\n"
     ]
    }
   ],
   "source": [
    "part_inds=[200,367]\n",
    "friend_nums = [1,2]\n",
    "tau_max = 300\n",
    "binsies = np.arange(1,tau_max+2)\n",
    "print(binsies)\n",
    "res_dict = {}"
   ]
  },
  {
   "cell_type": "code",
   "execution_count": 4,
   "id": "54087434",
   "metadata": {},
   "outputs": [],
   "source": [
    "for partind,part in enumerate(part_inds):\n",
    "    times,res,comps = cm.part_clustser(adj_mat,part)\n",
    "    for friend_num in friend_nums:\n",
    "        to_hist = []\n",
    "        for comp_ind in range(len(comps)-tau_max):\n",
    "            comp0 = np.array(comps[comp_ind])\n",
    "            del_mask = np.argwhere(comp0==part)\n",
    "            comp0 = np.delete(comp0,del_mask)\n",
    "            \n",
    "            if len(comp0)>=friend_num:\n",
    "                rand_parts = comp0[np.random.choice(len(comp0),friend_num,replace=False)]\n",
    "                for tau in range(1,tau_max+1):\n",
    "                    comp1 = comps[comp_ind+tau]\n",
    "                    del_mask = np.argwhere(comp1==part)\n",
    "                    comp1 = np.delete(comp1,del_mask)\n",
    "                    overlap_mask = np.isin(comp1,rand_parts)\n",
    "                    if len(overlap_mask[overlap_mask == 1])==len(rand_parts):\n",
    "                        to_hist.append(tau)\n",
    "        hist,bins_= np.histogram(to_hist,bins=binsies,density=True)\n",
    "        res_dict[(part,friend_num)]= hist\n",
    "    \n",
    "            \n",
    "        "
   ]
  },
  {
   "cell_type": "code",
   "execution_count": 5,
   "id": "f236b291",
   "metadata": {},
   "outputs": [
    {
     "name": "stdout",
     "output_type": "stream",
     "text": [
      "1\n",
      "2\n",
      "1\n",
      "2\n"
     ]
    },
    {
     "data": {
      "image/png": "[encoded data removed]",
      "text/plain": [
       "<Figure size 432x288 with 1 Axes>"
      ]
     },
     "metadata": {
      "needs_background": "light"
     },
     "output_type": "display_data"
    }
   ],
   "source": [
    "\n",
    "colors = {part_inds[0]:'red',part_inds[1]:'blue'}\n",
    "linestyles = {1:'solid',2:'dashed'}\n",
    "#fig,axs=plt.subplots(1,len(friend_nums),figsize=(15,5))\n",
    "for partind,part in enumerate(part_inds):\n",
    "    for friendind,friend_num in enumerate(friend_nums):\n",
    "        print(friend_num)\n",
    "        plt.plot(binsies[:-1],res_dict[(part,friend_num)],markersize=2.0,color=colors[part],linestyle = linestyles[friend_num],label=f'partind = {part}; friend_num = {friend_num}')\n",
    "        plt.yscale('log')\n",
    "        #plt.xscale('log')\n",
    "plt.ylim(10**(-4),0.5)\n",
    "plt.xlabel('lag time')\n",
    "plt.xlim(0,150)\n",
    "plt.ylabel('P')\n",
    "plt.title(f'$L={L} \\ \\\\sigma $')\n",
    "        #plt.xlim(0.80,75)\n",
    "plt.legend()\n",
    "plt.savefig(f'./plots/L{L}.pdf')"
   ]
  },
  {
   "cell_type": "code",
   "execution_count": null,
   "id": "acacb5b8",
   "metadata": {},
   "outputs": [],
   "source": []
  },
  {
   "cell_type": "code",
   "execution_count": null,
   "id": "2e88f475",
   "metadata": {},
   "outputs": [],
   "source": []
  }
 ],
 "metadata": {
  "kernelspec": {
   "display_name": "Python 3",
   "language": "python",
   "name": "python3"
  },
  "language_info": {
   "codemirror_mode": {
    "name": "ipython",
    "version": 3
   },
   "file_extension": ".py",
   "mimetype": "text/x-python",
   "name": "python",
   "nbconvert_exporter": "python",
   "pygments_lexer": "ipython3",
   "version": "3.8.10"
  }
 },
 "nbformat": 4,
 "nbformat_minor": 5
}
