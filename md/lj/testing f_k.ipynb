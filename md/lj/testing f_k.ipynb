{
 "cells": [
  {
   "cell_type": "code",
   "execution_count": 2,
   "id": "3d02f16d",
   "metadata": {},
   "outputs": [],
   "source": [
    "import numpy as np\n",
    "import codemodule as cm\n",
    "import matplotlib.pyplot as plt"
   ]
  },
  {
   "cell_type": "code",
   "execution_count": 64,
   "id": "03de771f",
   "metadata": {},
   "outputs": [
    {
     "name": "stdout",
     "output_type": "stream",
     "text": [
      "3124 frames with 0.8 discard and 1 stride gives back 625 frames\n"
     ]
    }
   ],
   "source": [
    "data = cm.read_lammpstrj('/home/konsti/internship/md/ring_polymers/data/RP_N0,1331_L41.98_newpot/dump.lammpstrj',0.8)"
   ]
  },
  {
   "cell_type": "code",
   "execution_count": 73,
   "id": "193573ac",
   "metadata": {},
   "outputs": [
    {
     "name": "stdout",
     "output_type": "stream",
     "text": [
      "1\n",
      "0.00014909886015040805\n",
      "0.0005339376713753998\n",
      "0.0020356251594345065\n",
      "0.005893704194395994\n",
      "0.015310016844998638\n",
      "0.036773937861760767\n",
      "0.07252357946350632\n",
      "0.10410975361863362\n",
      "0.11322745832539252\n",
      "1\n",
      "0.00012021487039747772\n",
      "0.00039788938581368716\n",
      "0.0014887438222766516\n",
      "0.004291438503871884\n",
      "0.011055185211016314\n",
      "0.026944309584850425\n",
      "0.051309054624858796\n",
      "0.07625245742625682\n",
      "0.08247134647596048\n",
      "1\n",
      "0.00012442005554863734\n",
      "0.0005112497325766092\n",
      "0.0020762480524525134\n",
      "0.006061336125914007\n",
      "0.015103549816045694\n",
      "0.036619249397123\n",
      "0.06822148206762708\n",
      "0.10318163100535392\n",
      "0.1116163786236321\n",
      "1\n",
      "0.00012442005554863734\n",
      "0.0005112497325766092\n",
      "0.0020762480524525134\n",
      "0.006061336125914007\n",
      "0.015103549816045694\n",
      "0.036619249397123\n",
      "0.06822148206762708\n",
      "0.10318163100535392\n",
      "0.1116163786236321\n",
      "1\n",
      "0.00012021487039747772\n",
      "0.00039788938581368716\n",
      "0.0014887438222766516\n",
      "0.004291438503871884\n",
      "0.011055185211016314\n",
      "0.026944309584850425\n",
      "0.051309054624858796\n",
      "0.07625245742625682\n",
      "0.08247134647596048\n",
      "1\n",
      "0.00014909886015040805\n",
      "0.0005339376713753998\n",
      "0.0020356251594345065\n",
      "0.005893704194395994\n",
      "0.015310016844998638\n",
      "0.036773937861760767\n",
      "0.07252357946350632\n",
      "0.10410975361863362\n",
      "0.11322745832539252\n",
      "[array([[ 1.00000000e+00,  9.94131229e-01,  1.49098860e-04],\n",
      "       [ 2.00000000e+00,  9.87878377e-01,  5.33937671e-04],\n",
      "       [ 4.00000000e+00,  9.79007395e-01,  2.03562516e-03],\n",
      "       [ 7.00000000e+00,  9.56961829e-01,  5.89370419e-03],\n",
      "       [ 1.20000000e+01,  9.05022895e-01,  1.53100168e-02],\n",
      "       [ 2.10000000e+01,  7.95980523e-01,  3.67739379e-02],\n",
      "       [ 3.50000000e+01,  6.23851751e-01,  7.25235795e-02],\n",
      "       [ 5.90000000e+01,  3.60742264e-01,  1.04109754e-01],\n",
      "       [ 9.90000000e+01, -7.20927477e-02,  1.13227458e-01]]), array([[1.00000000e+00, 9.94204746e-01, 1.20214870e-04],\n",
      "       [2.00000000e+00, 9.88114556e-01, 3.97889386e-04],\n",
      "       [4.00000000e+00, 9.79856625e-01, 1.48874382e-03],\n",
      "       [7.00000000e+00, 9.59397298e-01, 4.29143850e-03],\n",
      "       [1.20000000e+01, 9.11847656e-01, 1.10551852e-02],\n",
      "       [2.10000000e+01, 8.09271976e-01, 2.69443096e-02],\n",
      "       [3.50000000e+01, 6.60730061e-01, 5.13090546e-02],\n",
      "       [5.90000000e+01, 4.29435325e-01, 7.62524574e-02],\n",
      "       [9.90000000e+01, 5.55771726e-02, 8.24713465e-02]]), array([[1.00000000e+00, 9.94111403e-01, 1.24420056e-04],\n",
      "       [2.00000000e+00, 9.87856062e-01, 5.11249733e-04],\n",
      "       [4.00000000e+00, 9.78750527e-01, 2.07624805e-03],\n",
      "       [7.00000000e+00, 9.56122865e-01, 6.06133613e-03],\n",
      "       [1.20000000e+01, 9.01866888e-01, 1.51035498e-02],\n",
      "       [2.10000000e+01, 7.75897930e-01, 3.66192494e-02],\n",
      "       [3.50000000e+01, 5.44660825e-01, 6.82214821e-02],\n",
      "       [5.90000000e+01, 2.29985985e-01, 1.03181631e-01],\n",
      "       [9.90000000e+01, 1.60591427e-01, 1.11616379e-01]]), array([[1.00000000e+00, 9.94111403e-01, 1.24420056e-04],\n",
      "       [2.00000000e+00, 9.87856062e-01, 5.11249733e-04],\n",
      "       [4.00000000e+00, 9.78750527e-01, 2.07624805e-03],\n",
      "       [7.00000000e+00, 9.56122865e-01, 6.06133613e-03],\n",
      "       [1.20000000e+01, 9.01866888e-01, 1.51035498e-02],\n",
      "       [2.10000000e+01, 7.75897930e-01, 3.66192494e-02],\n",
      "       [3.50000000e+01, 5.44660825e-01, 6.82214821e-02],\n",
      "       [5.90000000e+01, 2.29985985e-01, 1.03181631e-01],\n",
      "       [9.90000000e+01, 1.60591427e-01, 1.11616379e-01]]), array([[1.00000000e+00, 9.94204746e-01, 1.20214870e-04],\n",
      "       [2.00000000e+00, 9.88114556e-01, 3.97889386e-04],\n",
      "       [4.00000000e+00, 9.79856625e-01, 1.48874382e-03],\n",
      "       [7.00000000e+00, 9.59397298e-01, 4.29143850e-03],\n",
      "       [1.20000000e+01, 9.11847656e-01, 1.10551852e-02],\n",
      "       [2.10000000e+01, 8.09271976e-01, 2.69443096e-02],\n",
      "       [3.50000000e+01, 6.60730061e-01, 5.13090546e-02],\n",
      "       [5.90000000e+01, 4.29435325e-01, 7.62524574e-02],\n",
      "       [9.90000000e+01, 5.55771726e-02, 8.24713465e-02]]), array([[ 1.00000000e+00,  9.94131229e-01,  1.49098860e-04],\n",
      "       [ 2.00000000e+00,  9.87878377e-01,  5.33937671e-04],\n",
      "       [ 4.00000000e+00,  9.79007395e-01,  2.03562516e-03],\n",
      "       [ 7.00000000e+00,  9.56961829e-01,  5.89370419e-03],\n",
      "       [ 1.20000000e+01,  9.05022895e-01,  1.53100168e-02],\n",
      "       [ 2.10000000e+01,  7.95980523e-01,  3.67739379e-02],\n",
      "       [ 3.50000000e+01,  6.23851751e-01,  7.25235795e-02],\n",
      "       [ 5.90000000e+01,  3.60742264e-01,  1.04109754e-01],\n",
      "       [ 9.90000000e+01, -7.20927477e-02,  1.13227458e-01]])]\n"
     ]
    }
   ],
   "source": [
    "res_dict = cm.self_F(data,1,10,100,1,error_len = 40)"
   ]
  },
  {
   "cell_type": "code",
   "execution_count": 76,
   "id": "0845d391",
   "metadata": {},
   "outputs": [
    {
     "data": {
      "image/png": "[encoded data removed]",
      "text/plain": [
       "<Figure size 432x288 with 1 Axes>"
      ]
     },
     "metadata": {
      "needs_background": "light"
     },
     "output_type": "display_data"
    }
   ],
   "source": [
    "plt.errorbar(res_dict[1][:,0],res_dict[1][:,1],yerr = res_dict[1][:,2] )\n",
    "plt.yscale('log')\n",
    "plt.xscale('log')"
   ]
  },
  {
   "cell_type": "code",
   "execution_count": 67,
   "id": "d5e6a321",
   "metadata": {},
   "outputs": [
    {
     "name": "stdout",
     "output_type": "stream",
     "text": [
      "{1.0: array([[ 1.        ,  0.99414913,  0.17468656],\n",
      "       [ 3.        ,  0.98413388,  1.41962211],\n",
      "       [ 5.        ,  0.97243821,  3.820303  ],\n",
      "       [ 9.        ,  0.93846818, 11.29319308]])}\n"
     ]
    }
   ],
   "source": [
    "print(res_dict)"
   ]
  },
  {
   "cell_type": "code",
   "execution_count": null,
   "id": "81a43bf4",
   "metadata": {},
   "outputs": [],
   "source": []
  }
 ],
 "metadata": {
  "kernelspec": {
   "display_name": "Python 3 (ipykernel)",
   "language": "python",
   "name": "python3"
  },
  "language_info": {
   "codemirror_mode": {
    "name": "ipython",
    "version": 3
   },
   "file_extension": ".py",
   "mimetype": "text/x-python",
   "name": "python",
   "nbconvert_exporter": "python",
   "pygments_lexer": "ipython3",
   "version": "3.10.12"
  }
 },
 "nbformat": 4,
 "nbformat_minor": 5
}
