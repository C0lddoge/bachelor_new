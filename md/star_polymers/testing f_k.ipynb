{
 "cells": [
  {
   "cell_type": "code",
   "execution_count": 7,
   "id": "3d02f16d",
   "metadata": {},
   "outputs": [],
   "source": [
    "import numpy as np\n",
    "import codemodule as cm\n",
    "import matplotlib.pyplot as plt"
   ]
  },
  {
   "cell_type": "code",
   "execution_count": 18,
   "id": "03de771f",
   "metadata": {},
   "outputs": [
    {
     "name": "stdout",
     "output_type": "stream",
     "text": [
      "10001 frames with 0.5 discard and 1 stride gives back 5001 frames\n"
     ]
    }
   ],
   "source": [
    "data = cm.read_lammpstrj('/home/konsti/internship/md/star_polymers/data/SP_N243,243,243_L12.21_sig1.0,1.2,0.8/dump.lammpstrj',0.5)"
   ]
  },
  {
   "cell_type": "code",
   "execution_count": 19,
   "id": "193573ac",
   "metadata": {},
   "outputs": [
    {
     "name": "stdout",
     "output_type": "stream",
     "text": [
      "1\n",
      "1\n",
      "1\n",
      "1\n",
      "1\n",
      "1\n"
     ]
    }
   ],
   "source": [
    "res_dict = cm.self_F(data,1,30,1000,1,error_len = 40)"
   ]
  },
  {
   "cell_type": "code",
   "execution_count": 24,
   "id": "0845d391",
   "metadata": {},
   "outputs": [
    {
     "data": {
      "image/png": "[encoded data removed]",
      "text/plain": [
       "<Figure size 432x288 with 1 Axes>"
      ]
     },
     "metadata": {
      "needs_background": "light"
     },
     "output_type": "display_data"
    }
   ],
   "source": [
    "plt.errorbar(res_dict[:,0],res_dict[:,1],yerr = res_dict[:,2] )\n",
    "#plt.yscale('log'\n",
    "plt.xscale('log')"
   ]
  },
  {
   "cell_type": "code",
   "execution_count": 21,
   "id": "d5e6a321",
   "metadata": {},
   "outputs": [
    {
     "name": "stdout",
     "output_type": "stream",
     "text": [
      "[[1.00000000e+00 9.96886118e-01 1.85378869e-05]\n",
      " [2.00000000e+00 9.96796952e-01 3.27352794e-05]\n",
      " [3.00000000e+00 9.96573308e-01 4.41021594e-05]\n",
      " [4.00000000e+00 9.96388926e-01 5.62774901e-05]\n",
      " [5.00000000e+00 9.96243967e-01 6.64926222e-05]\n",
      " [6.00000000e+00 9.96091146e-01 7.70411689e-05]\n",
      " [8.00000000e+00 9.95825337e-01 9.53762282e-05]\n",
      " [1.00000000e+01 9.95575970e-01 1.14778190e-04]\n",
      " [1.30000000e+01 9.95236898e-01 1.43484478e-04]\n",
      " [1.70000000e+01 9.94813249e-01 1.78037517e-04]\n",
      " [2.20000000e+01 9.94295602e-01 2.20466776e-04]\n",
      " [2.80000000e+01 9.93715722e-01 2.68017747e-04]\n",
      " [3.50000000e+01 9.93048500e-01 3.24835551e-04]\n",
      " [4.50000000e+01 9.92144066e-01 4.10265630e-04]\n",
      " [5.70000000e+01 9.91056500e-01 5.07778672e-04]\n",
      " [7.20000000e+01 9.89729111e-01 6.27773524e-04]\n",
      " [9.20000000e+01 9.87958661e-01 7.90533694e-04]\n",
      " [1.17000000e+02 9.85823773e-01 9.85042075e-04]\n",
      " [1.48000000e+02 9.83189319e-01 1.21279714e-03]\n",
      " [1.88000000e+02 9.79826105e-01 1.48284893e-03]\n",
      " [2.39000000e+02 9.75665273e-01 1.77023573e-03]\n",
      " [3.03000000e+02 9.70544505e-01 2.09630428e-03]\n",
      " [3.85000000e+02 9.64224472e-01 2.43161167e-03]\n",
      " [4.88000000e+02 9.56575877e-01 2.72579278e-03]\n",
      " [6.20000000e+02 9.47174839e-01 2.93437678e-03]\n",
      " [7.87000000e+02 9.35329134e-01 2.97228378e-03]\n",
      " [9.99000000e+02 9.20088931e-01 2.70144245e-03]]\n"
     ]
    }
   ],
   "source": [
    "print(res_dict)"
   ]
  },
  {
   "cell_type": "code",
   "execution_count": null,
   "id": "81a43bf4",
   "metadata": {},
   "outputs": [],
   "source": []
  }
 ],
 "metadata": {
  "kernelspec": {
   "display_name": "Python 3 (ipykernel)",
   "language": "python",
   "name": "python3"
  },
  "language_info": {
   "codemirror_mode": {
    "name": "ipython",
    "version": 3
   },
   "file_extension": ".py",
   "mimetype": "text/x-python",
   "name": "python",
   "nbconvert_exporter": "python",
   "pygments_lexer": "ipython3",
   "version": "3.10.12"
  }
 },
 "nbformat": 4,
 "nbformat_minor": 5
}
