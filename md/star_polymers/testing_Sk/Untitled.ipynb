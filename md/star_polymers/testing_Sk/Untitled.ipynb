{
 "cells": [
  {
   "cell_type": "code",
   "execution_count": 39,
   "id": "3e0167bf",
   "metadata": {},
   "outputs": [],
   "source": [
    "import codemodule as cm\n",
    "import numpy as np\n",
    "import matplotlib.pyplot as plt"
   ]
  },
  {
   "cell_type": "code",
   "execution_count": 40,
   "id": "29247786",
   "metadata": {},
   "outputs": [
    {
     "name": "stdout",
     "output_type": "stream",
     "text": [
      "10001 frames with 0.99 discard and 1 stride gives back 101 frames\n"
     ]
    }
   ],
   "source": [
    "data = cm.read_lammpstrj('dump.lammpstrj',0.99)"
   ]
  },
  {
   "cell_type": "code",
   "execution_count": 53,
   "id": "74e960ef",
   "metadata": {},
   "outputs": [],
   "source": [
    "bin_len = 20\n",
    "qmax = 5\n",
    "types = 1"
   ]
  },
  {
   "cell_type": "code",
   "execution_count": 54,
   "id": "08c3ce43",
   "metadata": {},
   "outputs": [
    {
     "name": "stdout",
     "output_type": "stream",
     "text": [
      "\n",
      " 101 frames selected for S(q) wit qmax 5 for:\n",
      " type 1 with 400 particles\n",
      "[[ 785.59830569  869.83244539  148.06189014 ...    0.\n",
      "  1414.33768811 1596.41457165]\n",
      " [ 594.46145549  890.018821    173.61757782 ...    0.\n",
      "  1108.18845648 3215.43358439]\n",
      " [ 528.67260883  736.09180124  437.28374413 ...    0.\n",
      "  1441.77111992 1701.61211413]\n",
      " ...\n",
      " [ 565.51406994  837.86536638  295.52047947 ...    0.\n",
      "  1533.75081718 1302.80311494]\n",
      " [ 397.28963778  544.88033126   64.45125115 ...    0.\n",
      "  1003.8136269  2061.09441914]\n",
      " [ 698.99895295  499.64793335  296.72604765 ...    0.\n",
      "  1051.30492373 1353.92067829]]\n",
      "[ 5  8  4  5 16 12  0  8 17 16 12  4 16 24  0  5 28 20 12 16 24 12  0 12\n",
      " 21]\n"
     ]
    }
   ],
   "source": [
    "res = cm.structure_factor(data,types,qmax,error_len = bin_len)"
   ]
  },
  {
   "cell_type": "code",
   "execution_count": 55,
   "id": "d58363a3",
   "metadata": {},
   "outputs": [
    {
     "name": "stdout",
     "output_type": "stream",
     "text": [
      "[[0.50752708 0.25041074 0.02277481]\n",
      " [0.71775169 0.21176202 0.01023037]\n",
      " [0.8790627  0.2130744  0.01261511]\n",
      " [1.01505417 0.22718383 0.0156153 ]\n",
      " [1.13486506 0.23152288 0.01075973]\n",
      " [1.24318239 0.22975131 0.00556007]\n",
      " [1.43550337 0.23819391 0.01109551]\n",
      " [1.52258125 0.2346503  0.00695433]\n",
      " [1.60494156 0.23855844 0.00673356]\n",
      " [1.68327691 0.22268815 0.00619147]\n",
      " [1.75812539 0.25249874 0.01274986]\n",
      " [1.82991493 0.24787851 0.00582954]\n",
      " [1.89899247 0.2385246  0.00365255]\n",
      " [2.03010834 0.24115253 0.01516978]\n",
      " [2.09258778 0.23945308 0.00643854]\n",
      " [2.15325506 0.25010721 0.00594536]\n",
      " [2.21225927 0.25676114 0.007112  ]\n",
      " [2.26973012 0.26522274 0.00752709]\n",
      " [2.32578128 0.25124743 0.00506603]\n",
      " [2.38051304 0.25601432 0.00823184]\n",
      " [2.48636478 0.25906566 0.00838896]\n",
      " [2.53763542 0.26342191 0.00698251]]\n"
     ]
    }
   ],
   "source": [
    "roman_dat = np.loadtxt('roman_sk.dat')\n",
    "print(res)"
   ]
  },
  {
   "cell_type": "code",
   "execution_count": 59,
   "id": "b67409d6",
   "metadata": {},
   "outputs": [
    {
     "data": {
      "text/plain": [
       "[<matplotlib.lines.Line2D at 0x7fc26d089c60>]"
      ]
     },
     "execution_count": 59,
     "metadata": {},
     "output_type": "execute_result"
    },
    {
     "data": {
      "image/png": "[encoded data removed]",
      "text/plain": [
       "<Figure size 432x288 with 1 Axes>"
      ]
     },
     "metadata": {
      "needs_background": "light"
     },
     "output_type": "display_data"
    }
   ],
   "source": [
    "plt.errorbar(res[:,0],res[:,1],yerr=res[:,2])\n",
    "#plt.yscale('log')\n",
    "plt.plot(roman_dat[:,0],roman_dat[:,1])"
   ]
  },
  {
   "cell_type": "code",
   "execution_count": null,
   "id": "9a519453",
   "metadata": {},
   "outputs": [],
   "source": []
  }
 ],
 "metadata": {
  "kernelspec": {
   "display_name": "Python 3 (ipykernel)",
   "language": "python",
   "name": "python3"
  },
  "language_info": {
   "codemirror_mode": {
    "name": "ipython",
    "version": 3
   },
   "file_extension": ".py",
   "mimetype": "text/x-python",
   "name": "python",
   "nbconvert_exporter": "python",
   "pygments_lexer": "ipython3",
   "version": "3.10.12"
  }
 },
 "nbformat": 4,
 "nbformat_minor": 5
}
